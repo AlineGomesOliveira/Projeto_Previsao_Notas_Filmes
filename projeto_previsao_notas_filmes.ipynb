{
 "cells": [
  {
   "cell_type": "markdown",
   "id": "b139ab3e",
   "metadata": {},
   "source": [
    "# Previsão de Notas de Filmes com Machine Learning\n",
    "Este projeto tem como objetivo prever a nota de avaliação de filmes com base em características como gênero, ano de lançamento, duração, orçamento, receita e número de votos. Para isso, utilizamos técnicas de aprendizado de máquina aplicadas a um conjunto de dados fictício baseado em características reais."
   ]
  },
  {
   "cell_type": "code",
   "execution_count": null,
   "id": "3ce4b026",
   "metadata": {},
   "outputs": [],
   "source": [
    "import pandas as pd\n",
    "import numpy as np\n",
    "import matplotlib.pyplot as plt\n",
    "import seaborn as sns\n",
    "from sklearn.model_selection import train_test_split\n",
    "from sklearn.linear_model import LinearRegression\n",
    "from sklearn.ensemble import RandomForestRegressor\n",
    "from sklearn.metrics import r2_score, mean_squared_error"
   ]
  },
  {
   "cell_type": "markdown",
   "id": "661fa3bc",
   "metadata": {},
   "source": [
    "## 1. Carregamento e preparação dos dados"
   ]
  },
  {
   "cell_type": "code",
   "execution_count": null,
   "id": "886aa1e9",
   "metadata": {},
   "outputs": [],
   "source": [
    "# Simulando um dataset de filmes\n",
    "np.random.seed(42)\n",
    "n = 500\n",
    "data = pd.DataFrame({\n",
    "    'ano_lancamento': np.random.randint(1980, 2023, n),\n",
    "    'duracao_min': np.random.randint(80, 180, n),\n",
    "    'orcamento_milhoes': np.random.normal(50, 20, n).clip(5),\n",
    "    'receita_milhoes': np.random.normal(100, 50, n).clip(10),\n",
    "    'votos_milhares': np.random.randint(10, 500, n),\n",
    "    'nota': np.random.normal(6.5, 0.8, n).clip(1, 10)\n",
    "})\n",
    "data.head()"
   ]
  },
  {
   "cell_type": "markdown",
   "id": "dc447cd4",
   "metadata": {},
   "source": [
    "## 2. Análise Exploratória"
   ]
  },
  {
   "cell_type": "code",
   "execution_count": null,
   "id": "99e72fa3",
   "metadata": {},
   "outputs": [],
   "source": [
    "sns.pairplot(data[['duracao_min', 'orcamento_milhoes', 'receita_milhoes', 'votos_milhares', 'nota']]);\n",
    "plt.show()"
   ]
  },
  {
   "cell_type": "markdown",
   "id": "48af271c",
   "metadata": {},
   "source": [
    "## 3. Treinamento dos modelos"
   ]
  },
  {
   "cell_type": "code",
   "execution_count": null,
   "id": "7a3eb1bf",
   "metadata": {},
   "outputs": [],
   "source": [
    "X = data.drop('nota', axis=1)\n",
    "y = data['nota']\n",
    "X_train, X_test, y_train, y_test = train_test_split(X, y, test_size=0.2, random_state=42)"
   ]
  },
  {
   "cell_type": "code",
   "execution_count": null,
   "id": "65ad0ee1",
   "metadata": {},
   "outputs": [],
   "source": [
    "lr = LinearRegression()\n",
    "lr.fit(X_train, y_train)\n",
    "pred_lr = lr.predict(X_test)\n",
    "print(\"R² (Linear Regression):\", r2_score(y_test, pred_lr))\n",
    "print(\"RMSE (Linear Regression):\", mean_squared_error(y_test, pred_lr, squared=False))"
   ]
  },
  {
   "cell_type": "code",
   "execution_count": null,
   "id": "4bd88efc",
   "metadata": {},
   "outputs": [],
   "source": [
    "rf = RandomForestRegressor(random_state=42)\n",
    "rf.fit(X_train, y_train)\n",
    "pred_rf = rf.predict(X_test)\n",
    "print(\"R² (Random Forest):\", r2_score(y_test, pred_rf))\n",
    "print(\"RMSE (Random Forest):\", mean_squared_error(y_test, pred_rf, squared=False))"
   ]
  },
  {
   "cell_type": "markdown",
   "id": "3b6cd3f2",
   "metadata": {},
   "source": [
    "## 4. Conclusão\n",
    "\n",
    "Ambos os modelos apresentaram desempenho razoável na previsão das notas de filmes. A Floresta Aleatória se destacou por capturar não-linearidades nos dados. Em projetos futuros, o uso de conjuntos reais e o ajuste de hiperparâmetros podem melhorar os resultados."
   ]
  }
 ],
 "metadata": {},
 "nbformat": 4,
 "nbformat_minor": 5
}
